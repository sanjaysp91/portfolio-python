{
 "cells": [
  {
   "cell_type": "code",
   "execution_count": 69,
   "id": "d8a46097-2195-4a14-b705-51767b8bcd43",
   "metadata": {},
   "outputs": [
    {
     "name": "stdout",
     "output_type": "stream",
     "text": [
      "Hello\n",
      "World\n"
     ]
    },
    {
     "data": {
      "text/plain": [
       "(None, None)"
      ]
     },
     "execution_count": 69,
     "metadata": {},
     "output_type": "execute_result"
    }
   ],
   "source": [
    "# Printing Text \n",
    "print('Hello'), print('World')"
   ]
  },
  {
   "cell_type": "code",
   "execution_count": 70,
   "id": "90b8a396-2597-4968-9c24-8ab55d3a4b5e",
   "metadata": {},
   "outputs": [
    {
     "name": "stdout",
     "output_type": "stream",
     "text": [
      "Hello World\n"
     ]
    }
   ],
   "source": [
    "print('Hello','World')"
   ]
  },
  {
   "cell_type": "code",
   "execution_count": 71,
   "id": "648c185f-9f01-4a23-b2a2-4848c98ef5d9",
   "metadata": {},
   "outputs": [
    {
     "name": "stdout",
     "output_type": "stream",
     "text": [
      "Hello World\n"
     ]
    }
   ],
   "source": [
    "print('Hello'+' World')"
   ]
  },
  {
   "cell_type": "code",
   "execution_count": 72,
   "id": "3ab98571-9af2-44da-82d4-cf13077c2ee3",
   "metadata": {},
   "outputs": [
    {
     "name": "stdout",
     "output_type": "stream",
     "text": [
      "3.0\n"
     ]
    },
    {
     "data": {
      "text/plain": [
       "float"
      ]
     },
     "execution_count": 72,
     "metadata": {},
     "output_type": "execute_result"
    }
   ],
   "source": [
    "# VARIABLES \n",
    "k1 = 9/3\n",
    "print(k1)\n",
    "type(k1)"
   ]
  },
  {
   "cell_type": "code",
   "execution_count": 73,
   "id": "f054a4e4-192f-467d-9fa2-3bdc627643ae",
   "metadata": {},
   "outputs": [
    {
     "name": "stdout",
     "output_type": "stream",
     "text": [
      "1.8\n"
     ]
    },
    {
     "data": {
      "text/plain": [
       "float"
      ]
     },
     "execution_count": 73,
     "metadata": {},
     "output_type": "execute_result"
    }
   ],
   "source": [
    "k2 = 9.0/5.0\n",
    "print(k2)\n",
    "type(k2)"
   ]
  },
  {
   "cell_type": "code",
   "execution_count": 74,
   "id": "d0feb703-1531-4a19-9db6-0357fb867ca6",
   "metadata": {},
   "outputs": [
    {
     "name": "stdout",
     "output_type": "stream",
     "text": [
      "range(1, 10)\n"
     ]
    },
    {
     "ename": "TypeError",
     "evalue": "'list' object is not callable",
     "output_type": "error",
     "traceback": [
      "\u001b[31m---------------------------------------------------------------------------\u001b[39m",
      "\u001b[31mTypeError\u001b[39m                                 Traceback (most recent call last)",
      "\u001b[36mCell\u001b[39m\u001b[36m \u001b[39m\u001b[32mIn[74]\u001b[39m\u001b[32m, line 3\u001b[39m\n\u001b[32m      1\u001b[39m \u001b[38;5;66;03m# FOR LOOP \u001b[39;00m\n\u001b[32m      2\u001b[39m \u001b[38;5;28mprint\u001b[39m(\u001b[38;5;28mrange\u001b[39m(\u001b[32m1\u001b[39m, \u001b[32m10\u001b[39m))\n\u001b[32m----> \u001b[39m\u001b[32m3\u001b[39m \u001b[38;5;28mprint\u001b[39m(\u001b[38;5;28;43mlist\u001b[39;49m\u001b[43m(\u001b[49m\u001b[38;5;28;43mrange\u001b[39;49m\u001b[43m(\u001b[49m\u001b[32;43m1\u001b[39;49m\u001b[43m,\u001b[49m\u001b[43m \u001b[49m\u001b[32;43m10\u001b[39;49m\u001b[43m)\u001b[49m\u001b[43m)\u001b[49m)\n\u001b[32m      4\u001b[39m \u001b[38;5;28;01mfor\u001b[39;00m x \u001b[38;5;129;01min\u001b[39;00m \u001b[38;5;28mrange\u001b[39m(\u001b[32m1\u001b[39m, \u001b[32m10\u001b[39m):\n\u001b[32m      5\u001b[39m     \u001b[38;5;28mprint\u001b[39m(x)\n",
      "\u001b[31mTypeError\u001b[39m: 'list' object is not callable"
     ]
    }
   ],
   "source": [
    "# FOR LOOP \n",
    "print(range(1, 10))\n",
    "print(list(range(1, 10)))\n",
    "for x in range(1, 10):\n",
    "    print(x)"
   ]
  },
  {
   "cell_type": "code",
   "execution_count": null,
   "id": "227df4d4-d5de-42f2-99fd-db21d8b1833b",
   "metadata": {},
   "outputs": [],
   "source": [
    "import random\n",
    "random.randint(1,6)"
   ]
  },
  {
   "cell_type": "code",
   "execution_count": null,
   "id": "7be65cf9-bab2-4c68-98d0-8476f470a159",
   "metadata": {},
   "outputs": [],
   "source": [
    "#1_dice\n",
    "import random\n",
    "for x in range(1,10):\n",
    "    y_random_number = random.randint(1,6)\n",
    "    print(x, ':', y_random_number)"
   ]
  },
  {
   "cell_type": "code",
   "execution_count": null,
   "id": "c4103270-373f-47a3-adc7-cfce77ff70a6",
   "metadata": {},
   "outputs": [],
   "source": [
    "#2_double_dice\n",
    "import random\n",
    "for x in range(1, 11):\n",
    "    throw_1 = random.randint(1,6)\n",
    "    throw_2 = random.randint(1,6)\n",
    "    total = throw_1 + throw_2\n",
    "    print(total)\n",
    "    if total == 7:\n",
    "        print('seven thrown!')\n",
    "    if total == 11:\n",
    "        print('eleven thrown!')\n",
    "    if throw_1 == throw_2:\n",
    "        print('double thrown')\n",
    "    if total > 10:\n",
    "        print('good throw!')\n",
    "    if total < 4 :\n",
    "        print('better luck next time!')"
   ]
  },
  {
   "cell_type": "code",
   "execution_count": null,
   "id": "07784128-d688-44af-ae04-170cd5db77f4",
   "metadata": {},
   "outputs": [],
   "source": [
    "print(10 > 9)\n",
    "print(10 < 0)\n",
    "print(10 > 9 and 10 < 9)\n",
    "print(10 > 9 or 10 < 9)\n",
    "print(10 > 9 and 10 != 9)\n",
    "print(10 > 9 or 10 == 9)\n",
    "print(not (10 > 9))"
   ]
  },
  {
   "cell_type": "code",
   "execution_count": null,
   "id": "47ebb15a-50a5-4cbf-b3fb-4ab998172225",
   "metadata": {},
   "outputs": [],
   "source": [
    "# IF ELSE ELIF \n",
    "# two mutually exclusive clauses\n",
    "a = 7\n",
    "if a > 7:\n",
    "    print('a is big')\n",
    "else:\n",
    "    print('a is small')"
   ]
  },
  {
   "cell_type": "code",
   "execution_count": null,
   "id": "6934c176-a260-4f6f-8a97-16bef945ac61",
   "metadata": {},
   "outputs": [],
   "source": [
    "# three mutually exclusive clauses\n",
    "a = 7\n",
    "if a > 9:\n",
    "    print('a is very big')\n",
    "elif a > 7:\n",
    "    print('a is fairly big')\n",
    "else: print('a is small')"
   ]
  },
  {
   "cell_type": "code",
   "execution_count": null,
   "id": "eae8a0ad-7bd1-4bd0-ac65-d3ef31331850",
   "metadata": {},
   "outputs": [],
   "source": [
    "#3_double_dice_while\n",
    "## A well-known principle in programming is DRY (Don’t Repeat Y ourself).\n",
    "import random\n",
    "throw_1 = random.randint(1,6)\n",
    "throw_2 = random.randint(1,6)\n",
    "while not (throw_1 == 6 and throw_2 == 6):\n",
    "    total = throw_1 + throw_2\n",
    "    print(total)\n",
    "    throw_1 = random.randint(1,6)\n",
    "    throw_2 = random.randint(1,6)\n",
    "print('double six thrown')"
   ]
  },
  {
   "cell_type": "code",
   "execution_count": null,
   "id": "604ba5bf-132f-48e2-b37e-44f3a78e558b",
   "metadata": {},
   "outputs": [],
   "source": [
    "#4_double_dice_while_break\n",
    "## The condition for staying in the loop is permanently set to True. The loop will\n",
    "## continue until it gets to break, which will only happen after throwing a double 6.\n",
    "import random\n",
    "while True:\n",
    "    throw_1 = random.randint(1,6)\n",
    "    throw_2 = random.randint(1,6)\n",
    "    total = throw_1 + throw_2\n",
    "    print(total)\n",
    "    if throw_1 == 6 and throw_2 == 6:\n",
    "        break\n",
    "print('double six thrown')"
   ]
  },
  {
   "cell_type": "code",
   "execution_count": null,
   "id": "565b04f9-a70a-45ec-a98c-9ae30052ad8e",
   "metadata": {},
   "outputs": [],
   "source": [
    "# STRINGS \n",
    "book_name = 'programming'\n",
    "print(book_name)"
   ]
  },
  {
   "cell_type": "code",
   "execution_count": null,
   "id": "f46cc9ac-6dbb-4adc-bed2-26455d0b33cf",
   "metadata": {},
   "outputs": [],
   "source": [
    "len(book_name)"
   ]
  },
  {
   "cell_type": "code",
   "execution_count": null,
   "id": "4b309321-604d-4622-84ed-7bf577be2dd2",
   "metadata": {},
   "outputs": [],
   "source": [
    "book_name[1]"
   ]
  },
  {
   "cell_type": "code",
   "execution_count": null,
   "id": "9bf27c89-3426-46dc-b096-ad6bd7b0a892",
   "metadata": {},
   "outputs": [],
   "source": [
    "book_name[0]"
   ]
  },
  {
   "cell_type": "code",
   "execution_count": null,
   "id": "0aa1ac42-84c7-4233-a2b9-712465321201",
   "metadata": {},
   "outputs": [],
   "source": [
    "# uncomment following line to see the error type\n",
    "# book_name[11]"
   ]
  },
  {
   "cell_type": "code",
   "execution_count": null,
   "id": "5c97909d-e542-4a33-9c35-862b53a5cd63",
   "metadata": {},
   "outputs": [],
   "source": [
    "book_name[0:11]"
   ]
  },
  {
   "cell_type": "code",
   "execution_count": null,
   "id": "7e94f69e-119e-475f-aaa8-fe337ffc36af",
   "metadata": {},
   "outputs": [],
   "source": [
    "book_name[:3]"
   ]
  },
  {
   "cell_type": "code",
   "execution_count": null,
   "id": "2a871692-ed54-4d7e-b506-50ebfeb7af6f",
   "metadata": {},
   "outputs": [],
   "source": [
    "book_name[3:7]"
   ]
  },
  {
   "cell_type": "code",
   "execution_count": null,
   "id": "81bcb17a-dd7c-43ad-b3a8-141b1bb843aa",
   "metadata": {},
   "outputs": [],
   "source": [
    "book_name[7:]"
   ]
  },
  {
   "cell_type": "code",
   "execution_count": null,
   "id": "f7aecfbe-87bf-49cd-9b18-bf0604dd0011",
   "metadata": {},
   "outputs": [],
   "source": [
    "book_name + ' by author'"
   ]
  },
  {
   "cell_type": "code",
   "execution_count": null,
   "id": "8b1b7e21-5f32-41ab-ab39-71488e0d52f4",
   "metadata": {},
   "outputs": [],
   "source": [
    "# LISTS\n",
    "# a string is a list of characters\n",
    "numbers = [456, 321, 123, 654]\n",
    "len(numbers)"
   ]
  },
  {
   "cell_type": "code",
   "execution_count": null,
   "id": "7bed8610-a3e5-4736-b6ad-0ffa08475676",
   "metadata": {},
   "outputs": [],
   "source": [
    "numbers[0]"
   ]
  },
  {
   "cell_type": "code",
   "execution_count": null,
   "id": "e0f74391-3b71-4e0a-b1f1-93828d29fe2d",
   "metadata": {},
   "outputs": [],
   "source": [
    "numbers[1:3]"
   ]
  },
  {
   "cell_type": "code",
   "execution_count": null,
   "id": "ca76064e-ca98-4ec2-85a1-c1806ad85ad0",
   "metadata": {},
   "outputs": [],
   "source": [
    "numbers[0] = 1\n",
    "numbers"
   ]
  },
  {
   "cell_type": "code",
   "execution_count": null,
   "id": "e17ae817-f089-4648-b909-5ff4933b558f",
   "metadata": {},
   "outputs": [],
   "source": [
    "more_numbers = [1, 2, 3, 4]\n",
    "numbers + more_numbers"
   ]
  },
  {
   "cell_type": "code",
   "execution_count": null,
   "id": "7b029b7b-bfa9-40f5-89c5-d9f451856554",
   "metadata": {},
   "outputs": [],
   "source": [
    "numbers.sort()\n",
    "numbers"
   ]
  },
  {
   "cell_type": "code",
   "execution_count": null,
   "id": "ec6bec74-efd1-414b-bc15-e754f925d3f7",
   "metadata": {},
   "outputs": [],
   "source": [
    "numbers.pop()\n",
    "numbers"
   ]
  },
  {
   "cell_type": "code",
   "execution_count": null,
   "id": "ccd31650-ab62-44a9-9b3e-ed00863a40ff",
   "metadata": {},
   "outputs": [],
   "source": [
    "numbers.pop(0)\n",
    "numbers"
   ]
  },
  {
   "cell_type": "code",
   "execution_count": null,
   "id": "c6cd05ef-1780-4a96-83a3-f85dfae9fff5",
   "metadata": {},
   "outputs": [],
   "source": [
    "numbers.insert(0, 100)\n",
    "numbers"
   ]
  },
  {
   "cell_type": "code",
   "execution_count": null,
   "id": "7ab21ced-8e94-4ecf-ba12-66dadd84b529",
   "metadata": {},
   "outputs": [],
   "source": [
    "# complex structures, list of list \n",
    "big_list = [123, 'hello', ['inner list', 2, True]]\n",
    "big_list"
   ]
  },
  {
   "cell_type": "code",
   "execution_count": null,
   "id": "e071b14a-6812-4438-87fa-268683f2fb35",
   "metadata": {},
   "outputs": [],
   "source": [
    "#5_list_and_for\n",
    "list = [1, 'one', 2, True]\n",
    "for item in list:\n",
    "    print(item)"
   ]
  },
  {
   "cell_type": "code",
   "execution_count": null,
   "id": "45c26d39-ed01-4abd-9478-b150270c941c",
   "metadata": {},
   "outputs": [],
   "source": [
    "# FUNCTIONS\n",
    "# As programs get larger, things get more complicated and it becomes necessary to break up your\n",
    "# programs into units called functions. There are better ways still of structuring our programs\n",
    "# using classes and modules.\n",
    "# The biggest problem in software development of any sort is managing complexity. \n",
    "# The best programmers write software that is easy to look at and understand and requires very \n",
    "# little in the way of extra explanation. \n",
    "# Functions are a key tool in creating easy-to-understand programs that can be changed without\n",
    "# difficulty or risk of the whole thing falling into a crumpled mess.\n",
    "#6_polite_function\n",
    "def make_polite(sentence):\n",
    "    polite_sentence = sentence + ', please'\n",
    "    return polite_sentence\n",
    "print('pass the salt')\n",
    "print(make_polite('pass the salt'))"
   ]
  },
  {
   "cell_type": "code",
   "execution_count": null,
   "id": "464093f1-af5c-451c-95a4-7382b037e6cc",
   "metadata": {},
   "outputs": [],
   "source": [
    "#7_hello_n\n",
    "def say_hello(n):\n",
    "    for x in range(0, n):\n",
    "        print(x, ':', 'hello')\n",
    "say_hello(5)"
   ]
  },
  {
   "cell_type": "code",
   "execution_count": null,
   "id": "aea3a2eb-6a9f-4048-afc3-c1356468a4fe",
   "metadata": {},
   "outputs": [],
   "source": [
    "# HANGMAN\n",
    "# a word guessing game. \n",
    "# In python2: replace input with raw_input. \n",
    "#8_hangman_words \n",
    "import random\n",
    "words = ['chicken', 'dog', 'cat', 'mouse', 'frog']\n",
    "def pick_a_word():\n",
    "    return random.choice(words)    # pick one of the items in the list at random. \n",
    "print(pick_a_word)\n",
    "print(pick_a_word())    "
   ]
  },
  {
   "cell_type": "code",
   "execution_count": null,
   "id": "488c5f21-5e80-482b-8c0d-36aee2abedcd",
   "metadata": {},
   "outputs": [],
   "source": [
    "# play: our function to control the game; we know what play should do, we just don't have all ... \n",
    "# the details yet; this is aka orhestrator function \n",
    "def play():    \n",
    "    word = pick_a_word()\n",
    "    while True:    # loop until either the word is guessed (process_guess returns True) or lives_remaining is reduced to zero. \n",
    "        guess = get_guess(word)\n",
    "        if process_guess(guess, word):\n",
    "            print('you win! well done.')\n",
    "            break\n",
    "        if lives_remaining == 0:    # global variable, because unlike variables defined in functions, we can access it from anywhere in the program.\n",
    "            print('you are hung!')\n",
    "            print('the word was: ' , word)\n",
    "            break\n",
    "# We cannot run this at the moment because the functions get_guess and process_guess don’t exist yet.\n",
    "# However, we can write what are called stubs for them that will at least let us try out our play function. \n",
    "# Stubs are just versions of functions that don’t do much; they are stand-ins for when the full versions of the functions are written.    \n",
    "def get_guess(word):\n",
    "    return 'a'\n",
    "def process_guess(guess, word):\n",
    "    global lives_remaining    # Without this line, Python assumes that it is a new variable local to the function.  \n",
    "    lives_remaining = lives_remaining - 1 \n",
    "    return False\n",
    "\n",
    "# run the dummy program \n",
    "lives_remaining = 5\n",
    "play()"
   ]
  },
  {
   "cell_type": "code",
   "execution_count": null,
   "id": "726015ef-933b-41f5-8cdc-346a4b556bf2",
   "metadata": {},
   "outputs": [],
   "source": [
    "# replace the stub functions with real functions\n",
    "def get_guess(word):\n",
    "    print_word_with_blanks(word)\n",
    "    print('lives remaining: ', str(lives_remaining))    # because we want to append a number after the string, the number variable must be converted into a string. \n",
    "    guess = input('guess a letter or whole word?')    # prompt\n",
    "    return guess\n",
    "def print_word_with_blanks(word):\n",
    "    print('print_word_with_blanks: tbd')\n",
    "\n",
    "# run the dummy program \n",
    "lives_remaining = 5\n",
    "play()\n",
    "# Enter guesses until all your lives are gone to verify that you get the “losing” message."
   ]
  },
  {
   "cell_type": "code",
   "execution_count": null,
   "id": "31ee95b6-bae6-4f5d-9df7-fb340241e7ec",
   "metadata": {},
   "outputs": [],
   "source": [
    "# create the proper version of print_word_with_blanks\n",
    "# function needs to display something like “c--c--n,” \n",
    "# so it needs to know which letters the player has guessed and which they haven’t. \n",
    "# To do this, it uses a new global variable (this time a string) that contains all the guessed letters. \n",
    "# Every time a letter is guessed, it gets added to this string: guessed letters = ''\n",
    "def print_word_with_blanks(word):\n",
    "    display_word = ''    # start with an empty string\n",
    "    for letter in word:    # step through each letter in the word \n",
    "        if guessed_letters.find(letter) > -1:    # if found, find returns position of the letter; else it returns -1 \n",
    "            # letter found\n",
    "            display_word = display_word + letter\n",
    "        else:\n",
    "            # letter not found\n",
    "            display_word = display_word + '-'\n",
    "    print(display_word)\n",
    "\n",
    "def process_guess(guess, word):\n",
    "    global lives_remaining\n",
    "    global guessed_letters\n",
    "    lives_remaining = lives_remaining - 1\n",
    "    guessed_letters = guessed_letters + guess \n",
    "    return False\n",
    "\n",
    "# run the dummy program \n",
    "lives_remaining = 7\n",
    "guessed_letters = ''\n",
    "play()"
   ]
  },
  {
   "cell_type": "code",
   "execution_count": null,
   "id": "ef198d29-cdae-474a-98c0-4e415b6f0a24",
   "metadata": {},
   "outputs": [],
   "source": [
    "def process_guess(guess, word):\n",
    "    if len(guess) > 1:\n",
    "        return whole_word_guess(guess, word)\n",
    "    else: \n",
    "        return single_letter_guess(guess, word)\n",
    "def single_letter_guess(guess, word):\n",
    "    global guessed_letters\n",
    "    global lives_remaining\n",
    "    if word.find(guess) == -1:\n",
    "        # letter guess was incorrect \n",
    "        lives_remaining = lives_remaining - 1\n",
    "        guessed_letters = guessed_letters + guess\n",
    "        if all_letters_guessed(word):\n",
    "            return True\n",
    "def all_letters_guessed(word):\n",
    "    for letter in word:\n",
    "        if guessed_letters.find(letter) == -1:\n",
    "            return False\n",
    "    return True\n",
    "def whole_word_guess(guess, word):\n",
    "    global lives_remaining\n",
    "    if guess.lower() == word.lower():\n",
    "        return True\n",
    "    else: \n",
    "        lives_remaining = lives_remaining - 1\n",
    "        return False \n",
    "\n",
    "# run the dummy program \n",
    "lives_remaining = 7\n",
    "guessed_letters = ''\n",
    "play()"
   ]
  },
  {
   "cell_type": "code",
   "execution_count": 75,
   "id": "8c38912d-6e81-4f79-a24e-ae3522b95bbc",
   "metadata": {},
   "outputs": [
    {
     "name": "stdout",
     "output_type": "stream",
     "text": [
      "---\n",
      "lives remaining:  7\n"
     ]
    },
    {
     "name": "stdout",
     "output_type": "stream",
     "text": [
      "guess a letter or whole word for an animal? c\n"
     ]
    },
    {
     "name": "stdout",
     "output_type": "stream",
     "text": [
      "---\n",
      "lives remaining:  6\n"
     ]
    },
    {
     "name": "stdout",
     "output_type": "stream",
     "text": [
      "guess a letter or whole word for an animal? b\n"
     ]
    },
    {
     "name": "stdout",
     "output_type": "stream",
     "text": [
      "---\n",
      "lives remaining:  5\n"
     ]
    },
    {
     "name": "stdout",
     "output_type": "stream",
     "text": [
      "guess a letter or whole word for an animal? h\n"
     ]
    },
    {
     "name": "stdout",
     "output_type": "stream",
     "text": [
      "---\n",
      "lives remaining:  4\n"
     ]
    },
    {
     "name": "stdout",
     "output_type": "stream",
     "text": [
      "guess a letter or whole word for an animal? d\n"
     ]
    },
    {
     "name": "stdout",
     "output_type": "stream",
     "text": [
      "d--\n",
      "lives remaining:  4\n"
     ]
    },
    {
     "name": "stdout",
     "output_type": "stream",
     "text": [
      "guess a letter or whole word for an animal? o\n"
     ]
    },
    {
     "name": "stdout",
     "output_type": "stream",
     "text": [
      "do-\n",
      "lives remaining:  4\n"
     ]
    },
    {
     "name": "stdout",
     "output_type": "stream",
     "text": [
      "guess a letter or whole word for an animal? g\n"
     ]
    },
    {
     "name": "stdout",
     "output_type": "stream",
     "text": [
      "dog\n",
      "you win! well done.\n"
     ]
    }
   ],
   "source": [
    "#9_hangman_words_full_program\n",
    "import random\n",
    "\n",
    "display_debug_msg = 0\n",
    "words = ['chicken', 'dog', 'cat', 'mouse', 'frog']\n",
    "lives_remaining = 7\n",
    "guessed_letters = ''\n",
    "def play():    \n",
    "    word = pick_a_word()\n",
    "    while True:    # loop until either the word is guessed (process_guess returns True) or lives_remaining is reduced to zero. \n",
    "        guess = get_guess(word)\n",
    "        if process_guess(guess, word):\n",
    "            print('you win! well done.')\n",
    "            break\n",
    "        if lives_remaining == 0:    # global variable, because unlike variables defined in functions, we can access it from anywhere in the program.\n",
    "            print('you are hung!')\n",
    "            print('the word was: ' , word)\n",
    "            break\n",
    "def pick_a_word():\n",
    "    return random.choice(words)    # pick one of the items in the list at random. \n",
    "def get_guess(word):\n",
    "    print_word_with_blanks(word)\n",
    "    print('lives remaining: ', str(lives_remaining))    # because we want to append a number after the string, the number variable must be converted into a string. \n",
    "    guess = input('guess a letter or whole word for an animal?')    # prompt\n",
    "    return guess\n",
    "def print_word_with_blanks(word):\n",
    "    display_word = ''    # start with an empty string\n",
    "    for letter in word:    # step through each letter in the word \n",
    "        if guessed_letters.find(letter) > -1:    # if found, find returns position of the letter; else it returns -1 \n",
    "            # letter found\n",
    "            if display_debug_msg: print('debug: ', 'print_word_with_blanks: ', 'msg: ', 'letter found = ', letter)\n",
    "            display_word = display_word + letter\n",
    "            if display_debug_msg: print('debug: ', 'print_word_with_blanks: ', 'msg: ', 'display_word = ', display_word)\n",
    "        else:\n",
    "            # letter not found\n",
    "            display_word = display_word + '-'\n",
    "    print(display_word)\n",
    "def process_guess(guess, word):\n",
    "    if len(guess) > 1:\n",
    "        return whole_word_guess(guess, word)\n",
    "    else: \n",
    "        return single_letter_guess(guess, word)\n",
    "def whole_word_guess(guess, word):\n",
    "    global lives_remaining\n",
    "    if guess.lower() == word.lower():\n",
    "        return True\n",
    "    else: \n",
    "        lives_remaining = lives_remaining - 1\n",
    "        return False\n",
    "def single_letter_guess(guess, word):\n",
    "    global guessed_letters\n",
    "    global lives_remaining\n",
    "    if word.find(guess) == -1:\n",
    "        # letter guess was incorrect \n",
    "        if display_debug_msg: print('debug:', 'single_letter_guess: ', 'msg: ', 'letter was incorrect')\n",
    "        lives_remaining = lives_remaining - 1\n",
    "        guessed_letters = guessed_letters + guess\n",
    "        if display_debug_msg: print('debug:', 'single_letter_guess: ', 'guessed_letters = ', guessed_letters)\n",
    "#        if all_letters_guessed(word):\n",
    "#            return True\n",
    "    if word.find(guess) > -1:\n",
    "        # letter guess was correct \n",
    "        if display_debug_msg: print('debug:', 'single_letter_guess: ', 'msg: ', 'letter was correct')\n",
    "        guessed_letters = guessed_letters + guess\n",
    "        if display_debug_msg: print('debug:', 'single_letter_guess: ', 'guessed_letters = ', guessed_letters)\n",
    "        if all_letters_guessed(word):\n",
    "            return True\n",
    "def all_letters_guessed(word):\n",
    "    if display_debug_msg: print('debug:', 'all_letters_guessed: ', 'state', 'all_letters_guessed function entry')\n",
    "    for letter in word:\n",
    "        if guessed_letters.find(letter) == -1:\n",
    "            return False\n",
    "    if display_debug_msg: print('debug:', 'all_letters_guessed: ', 'congratulations, you guessed all letters correctly ')\n",
    "    print_word_with_blanks(word)\n",
    "    return True\n",
    "play()"
   ]
  },
  {
   "cell_type": "code",
   "execution_count": 76,
   "id": "531d5dbc-b9b7-43e9-b9eb-7b4866687877",
   "metadata": {},
   "outputs": [
    {
     "data": {
      "text/plain": [
       "7"
      ]
     },
     "execution_count": 76,
     "metadata": {},
     "output_type": "execute_result"
    }
   ],
   "source": [
    "# DICTIONARIES \n",
    "# Lists: work best when accessing data starting at beginning and working way through. \n",
    "# But when it comes to accessing a particular entry, they can be slow and inefficient. \n",
    "# It is like a book without index or table of contents. You have to read through whole. \n",
    "# Dictionaries: Provide more efficient means of accessing a data structure, going straight\n",
    "# to an item of interest. A value is associated with a key. Use the key to ask for a value. \n",
    "# The keys and values are created while the program is running. \n",
    "eggs_per_week = {'penny':7, 'amy':6, 'bernadette':0}\n",
    "eggs_per_week['penny']"
   ]
  },
  {
   "cell_type": "code",
   "execution_count": 77,
   "id": "bb407080-9fbd-4eda-b7e1-3bc2f6d62a1c",
   "metadata": {},
   "outputs": [
    {
     "data": {
      "text/plain": [
       "{'penny': 7, 'amy': 6, 'bernadette': 0}"
      ]
     },
     "execution_count": 77,
     "metadata": {},
     "output_type": "execute_result"
    }
   ],
   "source": [
    "eggs_per_week"
   ]
  },
  {
   "cell_type": "code",
   "execution_count": 79,
   "id": "c0415a2f-5b2a-4fdb-9922-4112a3deab59",
   "metadata": {},
   "outputs": [
    {
     "data": {
      "text/plain": [
       "{'penny': 5, 'amy': 6, 'bernadette': 0}"
      ]
     },
     "execution_count": 79,
     "metadata": {},
     "output_type": "execute_result"
    }
   ],
   "source": [
    "eggs_per_week['penny'] = 5\n",
    "eggs_per_week\n",
    "# The dictionary does not keep track of the order in which items were defined.\n",
    "# KEY: string / number / tuple \n",
    "# VALUE: number, list, dictionary "
   ]
  },
  {
   "cell_type": "code",
   "execution_count": 80,
   "id": "0506b2e1-7b48-4e4c-85e3-65d35f6f9c6b",
   "metadata": {},
   "outputs": [
    {
     "data": {
      "text/plain": [
       "(1, 2, 3)"
      ]
     },
     "execution_count": 80,
     "metadata": {},
     "output_type": "execute_result"
    }
   ],
   "source": [
    "# TUPLES \n",
    "# Tuples look like lists, but without the square brackets. \n",
    "tuple = 1,2,3\n",
    "tuple"
   ]
  },
  {
   "cell_type": "code",
   "execution_count": 81,
   "id": "cc420e0e-daf5-4c2b-b974-1055d5b2a609",
   "metadata": {},
   "outputs": [
    {
     "data": {
      "text/plain": [
       "1"
      ]
     },
     "execution_count": 81,
     "metadata": {},
     "output_type": "execute_result"
    }
   ],
   "source": [
    "tuple[0]"
   ]
  },
  {
   "cell_type": "code",
   "execution_count": 88,
   "id": "975dfde8-a8fe-4510-a848-dbc7492c78ed",
   "metadata": {},
   "outputs": [],
   "source": [
    "# Tuples are immutable. You cannot change them. Strings and numbers are also immutable. \n",
    "# Uncomment to see the error. \n",
    "# tuple[0] = 6\n",
    "\n",
    "# If a tuple is just a list that you cannot reassign, what is the use? \n",
    "# Tuple provides useful way of creating 'a temporary collection of items'. \n",
    "# There are some neat tricks using tuples. "
   ]
  },
  {
   "cell_type": "code",
   "execution_count": 90,
   "id": "831f1a39-ee43-4e59-be08-868053f7db5d",
   "metadata": {},
   "outputs": [
    {
     "data": {
      "text/plain": [
       "(1, 2, 3)"
      ]
     },
     "execution_count": 90,
     "metadata": {},
     "output_type": "execute_result"
    }
   ],
   "source": [
    "# Multiple Assignment\n",
    "a,b,c = 1,2,3 \n",
    "a,b,c"
   ]
  },
  {
   "cell_type": "code",
   "execution_count": 93,
   "id": "b3d4ca50-867e-45c1-af9c-cfef0dec45e2",
   "metadata": {},
   "outputs": [
    {
     "name": "stdout",
     "output_type": "stream",
     "text": [
      "-50 78\n"
     ]
    }
   ],
   "source": [
    "# Multiple Return Values \n",
    "# Sometimes function may want to return more than one value at a time.\n",
    "# e.g. function takes a list of numbers and returns min and max \n",
    "#10_function_returns_tuple\n",
    "def stats(numbers):\n",
    "    numbers.sort()\n",
    "    return (numbers[0], numbers[-1])\n",
    "list = [5, -50, 45, 0, -1, 12, 1, 78]\n",
    "min, max = stats(list)\n",
    "print(min, max)\n",
    "# This method of finding the minimum and maximum is not terribly efficient, but it is a simple example. "
   ]
  },
  {
   "cell_type": "code",
   "execution_count": 96,
   "id": "1f0395d9-073d-458a-baa1-565e9090150c",
   "metadata": {},
   "outputs": [
    {
     "name": "stdout",
     "output_type": "stream",
     "text": [
      "Ooops\n"
     ]
    }
   ],
   "source": [
    "# EXCEPTIONS\n",
    "# Used to flag when something goes wrong in the program. \n",
    "list = [1,2,3,4]\n",
    "# uncomment the line below to see the error. \n",
    "# list[4]\n",
    "\n",
    "# python has a mechanism for intercepting errors and allowing to handle them in a custom way. \n",
    "list = [1,2,3,4]\n",
    "try:\n",
    "    list[4]\n",
    "except IndexError:\n",
    "    print('Ooops')\n",
    "# There is a hierarchy of different types of errors that can be caught. "
   ]
  },
  {
   "cell_type": "code",
   "execution_count": 97,
   "id": "1985ed59-135d-4dea-b11f-6e7e3603bf17",
   "metadata": {},
   "outputs": [
    {
     "data": {
      "text/plain": [
       "12.3"
      ]
     },
     "execution_count": 97,
     "metadata": {},
     "output_type": "execute_result"
    }
   ],
   "source": [
    "# Summary of Functions\n",
    "# NUMBERS \n",
    "# absolute value \n",
    "abs(-12.3)"
   ]
  },
  {
   "cell_type": "code",
   "execution_count": 101,
   "id": "ba55a1ea-d67d-4327-9f40-3ec5fda39d8d",
   "metadata": {},
   "outputs": [
    {
     "data": {
      "text/plain": [
       "'0b11111111'"
      ]
     },
     "execution_count": 101,
     "metadata": {},
     "output_type": "execute_result"
    }
   ],
   "source": [
    "# decimal to binary string \n",
    "bin(255)"
   ]
  },
  {
   "cell_type": "code",
   "execution_count": 99,
   "id": "8b01a844-5292-4f4c-a8fa-6d2f84240089",
   "metadata": {},
   "outputs": [
    {
     "data": {
      "text/plain": [
       "(2+3j)"
      ]
     },
     "execution_count": 99,
     "metadata": {},
     "output_type": "execute_result"
    }
   ],
   "source": [
    "# complex number \n",
    "complex(2,3)"
   ]
  },
  {
   "cell_type": "code",
   "execution_count": 100,
   "id": "7a5d329f-30ce-4f9f-ac1f-f94324038117",
   "metadata": {},
   "outputs": [
    {
     "data": {
      "text/plain": [
       "'0xff'"
      ]
     },
     "execution_count": 100,
     "metadata": {},
     "output_type": "execute_result"
    }
   ],
   "source": [
    "# decimal to hex string \n",
    "hex(255)"
   ]
  },
  {
   "cell_type": "code",
   "execution_count": 104,
   "id": "977ee922-4166-4420-8ca8-664fe15b6cc0",
   "metadata": {},
   "outputs": [
    {
     "data": {
      "text/plain": [
       "'0o377'"
      ]
     },
     "execution_count": 104,
     "metadata": {},
     "output_type": "execute_result"
    }
   ],
   "source": [
    "# decimal to octal string \n",
    "oct(255)"
   ]
  },
  {
   "cell_type": "code",
   "execution_count": 105,
   "id": "e4688f41-9a4a-4c85-a1ba-15141c07d4c9",
   "metadata": {},
   "outputs": [
    {
     "data": {
      "text/plain": [
       "1.11"
      ]
     },
     "execution_count": 105,
     "metadata": {},
     "output_type": "execute_result"
    }
   ],
   "source": [
    "# round to n decimal places \n",
    "round(1.111111, 2)"
   ]
  },
  {
   "cell_type": "code",
   "execution_count": 107,
   "id": "f608af3a-acfd-479b-9f76-70dc5188aa10",
   "metadata": {},
   "outputs": [
    {
     "data": {
      "text/plain": [
       "24"
      ]
     },
     "execution_count": 107,
     "metadata": {},
     "output_type": "execute_result"
    }
   ],
   "source": [
    "# factorial of a number \n",
    "import math\n",
    "math.factorial(4)"
   ]
  },
  {
   "cell_type": "code",
   "execution_count": 108,
   "id": "7e8d8c92-f031-4d2d-896f-284bfe185426",
   "metadata": {},
   "outputs": [
    {
     "data": {
      "text/plain": [
       "2.302585092994046"
      ]
     },
     "execution_count": 108,
     "metadata": {},
     "output_type": "execute_result"
    }
   ],
   "source": [
    "# natural logarithm \n",
    "math.log(10)"
   ]
  },
  {
   "cell_type": "code",
   "execution_count": 109,
   "id": "c6e3ae24-069b-48b4-a896-c96316715395",
   "metadata": {},
   "outputs": [
    {
     "data": {
      "text/plain": [
       "256.0"
      ]
     },
     "execution_count": 109,
     "metadata": {},
     "output_type": "execute_result"
    }
   ],
   "source": [
    "# x^y\n",
    "math.pow(2, 8)"
   ]
  },
  {
   "cell_type": "code",
   "execution_count": 110,
   "id": "013193cf-3131-49e9-9d3d-dee038c0382a",
   "metadata": {},
   "outputs": [
    {
     "data": {
      "text/plain": [
       "256"
      ]
     },
     "execution_count": 110,
     "metadata": {},
     "output_type": "execute_result"
    }
   ],
   "source": [
    "# x^y\n",
    "2**8"
   ]
  },
  {
   "cell_type": "code",
   "execution_count": 111,
   "id": "be437cde-a307-4acd-9bec-a83c139858db",
   "metadata": {},
   "outputs": [
    {
     "data": {
      "text/plain": [
       "4.0"
      ]
     },
     "execution_count": 111,
     "metadata": {},
     "output_type": "execute_result"
    }
   ],
   "source": [
    "# square root\n",
    "math.sqrt(16)"
   ]
  },
  {
   "cell_type": "code",
   "execution_count": 114,
   "id": "00f08fd8-c1d9-47e9-9275-5d3ec7cf273b",
   "metadata": {},
   "outputs": [
    {
     "data": {
      "text/plain": [
       "(1.0, 6.123233995736766e-17, 1.633123935319537e+16)"
      ]
     },
     "execution_count": 114,
     "metadata": {},
     "output_type": "execute_result"
    }
   ],
   "source": [
    "# Trigonometry functions (radians) \n",
    "math.sin(math.pi/2), math.cos(math.pi/2), math.tan(math.pi/2)"
   ]
  },
  {
   "cell_type": "code",
   "execution_count": 115,
   "id": "65a7da28-e737-4dd6-b340-6ba3c8d4ac94",
   "metadata": {},
   "outputs": [
    {
     "data": {
      "text/plain": [
       "(1.5707963267948966, 1.5707963267948966, 1.5707963267948966)"
      ]
     },
     "execution_count": 115,
     "metadata": {},
     "output_type": "execute_result"
    }
   ],
   "source": [
    "math.asin(1.0), math.acos(6.1e-17), math.atan(1.6e+16)"
   ]
  },
  {
   "cell_type": "code",
   "execution_count": 117,
   "id": "7c564e9a-8569-4119-bf95-2a09026dc47d",
   "metadata": {},
   "outputs": [
    {
     "name": "stdout",
     "output_type": "stream",
     "text": [
      "hello, world\n",
      "it's 3 o'clock\n"
     ]
    }
   ],
   "source": [
    "# Summary of Functions\n",
    "# STRINGS \n",
    "# strings constants using single quotes and double quotes \n",
    "print('hello, world')\n",
    "print(\"it's 3 o'clock\")"
   ]
  },
  {
   "cell_type": "code",
   "execution_count": 118,
   "id": "76d5d87f-b7ea-4abc-91a6-2f1959cf868f",
   "metadata": {},
   "outputs": [
    {
     "data": {
      "text/plain": [
       "'Abc'"
      ]
     },
     "execution_count": 118,
     "metadata": {},
     "output_type": "execute_result"
    }
   ],
   "source": [
    "# Camel case \n",
    "'aBc'.capitalize()"
   ]
  },
  {
   "cell_type": "code",
   "execution_count": 120,
   "id": "71df2fd0-effc-4856-a52f-946f0d932762",
   "metadata": {},
   "outputs": [
    {
     "data": {
      "text/plain": [
       "'---abc----'"
      ]
     },
     "execution_count": 120,
     "metadata": {},
     "output_type": "execute_result"
    }
   ],
   "source": [
    "# string padding \n",
    "'abc'.center(10,'-')"
   ]
  },
  {
   "cell_type": "code",
   "execution_count": 121,
   "id": "ae2adda2-4996-4695-8f48-d06ae855e649",
   "metadata": {},
   "outputs": [
    {
     "data": {
      "text/plain": [
       "True"
      ]
     },
     "execution_count": 121,
     "metadata": {},
     "output_type": "execute_result"
    }
   ],
   "source": [
    "# check if string ends with \n",
    "'abcdef'.endswith('def')"
   ]
  },
  {
   "cell_type": "code",
   "execution_count": 122,
   "id": "57fc2c98-1919-4834-93eb-50a56305985a",
   "metadata": {},
   "outputs": [
    {
     "data": {
      "text/plain": [
       "3"
      ]
     },
     "execution_count": 122,
     "metadata": {},
     "output_type": "execute_result"
    }
   ],
   "source": [
    "# return position of the substring\n",
    "'abcdef'.find('de')"
   ]
  },
  {
   "cell_type": "code",
   "execution_count": 127,
   "id": "ca8464ea-eac6-494e-9030-9cd7d47870dd",
   "metadata": {},
   "outputs": [
    {
     "data": {
      "text/plain": [
       "'Its 12 pm'"
      ]
     },
     "execution_count": 127,
     "metadata": {},
     "output_type": "execute_result"
    }
   ],
   "source": [
    "# format string using template markers {}\n",
    "\"Its {0} pm\".format('12')"
   ]
  },
  {
   "cell_type": "code",
   "execution_count": 129,
   "id": "b56b2983-1286-4ceb-b9f4-40986a2a0f8c",
   "metadata": {},
   "outputs": [
    {
     "data": {
      "text/plain": [
       "(True, True, True)"
      ]
     },
     "execution_count": 129,
     "metadata": {},
     "output_type": "execute_result"
    }
   ],
   "source": [
    "# check if all characters are letters or digits\n",
    "'123abc'.isalnum(), '123'.isalnum(), 'abc'.isalnum()"
   ]
  },
  {
   "cell_type": "code",
   "execution_count": 134,
   "id": "186c2238-8518-4ddb-a4ca-91d18baba5df",
   "metadata": {},
   "outputs": [
    {
     "data": {
      "text/plain": [
       "(False, False, True)"
      ]
     },
     "execution_count": 134,
     "metadata": {},
     "output_type": "execute_result"
    }
   ],
   "source": [
    "# check if all characters are alphabetic \n",
    "'123abc'.isalpha(), '123'.isalpha(), 'abc'.isalpha()"
   ]
  },
  {
   "cell_type": "code",
   "execution_count": 136,
   "id": "2864ec9a-04ba-4ead-9c2a-fe9348595c4b",
   "metadata": {},
   "outputs": [
    {
     "data": {
      "text/plain": [
       "(True, True)"
      ]
     },
     "execution_count": 136,
     "metadata": {},
     "output_type": "execute_result"
    }
   ],
   "source": [
    "# check if character is a space, tab or other whitespace char\n",
    "' \\t'.isspace(), ' '.isspace()"
   ]
  },
  {
   "cell_type": "code",
   "execution_count": 137,
   "id": "08842bb9-639d-4990-bce2-16d9f3e9cef1",
   "metadata": {},
   "outputs": [
    {
     "data": {
      "text/plain": [
       "'abc-------'"
      ]
     },
     "execution_count": 137,
     "metadata": {},
     "output_type": "execute_result"
    }
   ],
   "source": [
    "# left justify \n",
    "'abc'.ljust(10, '-')"
   ]
  },
  {
   "cell_type": "code",
   "execution_count": 138,
   "id": "3d3b9940-1934-4f5e-be07-3eff35027fe6",
   "metadata": {},
   "outputs": [
    {
     "data": {
      "text/plain": [
       "'abcde'"
      ]
     },
     "execution_count": 138,
     "metadata": {},
     "output_type": "execute_result"
    }
   ],
   "source": [
    "# lower case\n",
    "'AbCdE'.lower()"
   ]
  },
  {
   "cell_type": "code",
   "execution_count": 139,
   "id": "8ba81af2-da82-4c4d-860a-56c53d5335d9",
   "metadata": {},
   "outputs": [
    {
     "data": {
      "text/plain": [
       "'hello there'"
      ]
     },
     "execution_count": 139,
     "metadata": {},
     "output_type": "execute_result"
    }
   ],
   "source": [
    "# replace all occurrences of old with new \n",
    "'hello world'.replace('world', 'there')"
   ]
  },
  {
   "cell_type": "code",
   "execution_count": 143,
   "id": "e78dfdc3-444e-4b25-91d7-12a57e114d66",
   "metadata": {},
   "outputs": [
    {
     "data": {
      "text/plain": [
       "(['abc', 'def'], [\"it's\", 'a', 'beautiful', 'life', '!'])"
      ]
     },
     "execution_count": 143,
     "metadata": {},
     "output_type": "execute_result"
    }
   ],
   "source": [
    "# return list of all words separated by spaces or other splitting char e.g. \\n for end of line \n",
    "'abc def'.split(), \"it's a beautiful life !\".split()"
   ]
  },
  {
   "cell_type": "code",
   "execution_count": 144,
   "id": "737e1cfe-8988-4b31-b864-2a33c4bc39ce",
   "metadata": {},
   "outputs": [
    {
     "data": {
      "text/plain": [
       "['abc ', ' def']"
      ]
     },
     "execution_count": 144,
     "metadata": {},
     "output_type": "execute_result"
    }
   ],
   "source": [
    "# split on the newline char \n",
    "'abc \\n def'.splitlines()"
   ]
  },
  {
   "cell_type": "code",
   "execution_count": 145,
   "id": "99899361-45ec-4c96-a94c-105f81ce94a8",
   "metadata": {},
   "outputs": [
    {
     "data": {
      "text/plain": [
       "'a  b'"
      ]
     },
     "execution_count": 145,
     "metadata": {},
     "output_type": "execute_result"
    }
   ],
   "source": [
    "# remove white space from both ends of the string \n",
    "'   a  b   '.strip()"
   ]
  },
  {
   "cell_type": "code",
   "execution_count": 146,
   "id": "27ccfd0a-02d7-4254-963f-03ab5ab72bf5",
   "metadata": {},
   "outputs": [
    {
     "data": {
      "text/plain": [
       "'ABCD'"
      ]
     },
     "execution_count": 146,
     "metadata": {},
     "output_type": "execute_result"
    }
   ],
   "source": [
    "# UPPER case \n",
    "'abCd'.upper()"
   ]
  },
  {
   "cell_type": "code",
   "execution_count": 161,
   "id": "0941ab6d-1ea3-49ba-9aa7-d2c5f9520a58",
   "metadata": {},
   "outputs": [
    {
     "data": {
      "text/plain": [
       "['a', 'c']"
      ]
     },
     "execution_count": 161,
     "metadata": {},
     "output_type": "execute_result"
    }
   ],
   "source": [
    "# Summary of Functions\n",
    "# LISTS\n",
    "# delete elements from array \n",
    "a  = ['a', 'b', 'c']\n",
    "del(a[1:2])\n",
    "a"
   ]
  },
  {
   "cell_type": "code",
   "execution_count": 158,
   "id": "f8b7cfc6-5344-4167-a780-16e6cd9ff80d",
   "metadata": {},
   "outputs": [
    {
     "data": {
      "text/plain": [
       "(None, ['a', 'b', 'c', 'd'])"
      ]
     },
     "execution_count": 158,
     "metadata": {},
     "output_type": "execute_result"
    }
   ],
   "source": [
    "# append an element at the end of the list\n",
    "a = ['a', 'b', 'c']\n",
    "a.append('d'), a"
   ]
  },
  {
   "cell_type": "code",
   "execution_count": 150,
   "id": "419a2187-9dc7-4a26-b305-3a675f3b48b0",
   "metadata": {},
   "outputs": [
    {
     "data": {
      "text/plain": [
       "2"
      ]
     },
     "execution_count": 150,
     "metadata": {},
     "output_type": "execute_result"
    }
   ],
   "source": [
    "# count occurrences of a particular element \n",
    "a = ['a', 'b', 'a']\n",
    "a.count('a')"
   ]
  },
  {
   "cell_type": "code",
   "execution_count": 151,
   "id": "a34900cd-657d-460e-beab-71cf4d653032",
   "metadata": {},
   "outputs": [
    {
     "data": {
      "text/plain": [
       "1"
      ]
     },
     "execution_count": 151,
     "metadata": {},
     "output_type": "execute_result"
    }
   ],
   "source": [
    "# index position of firts occurrence of an element \n",
    "a = ['a', 'b', 'c']\n",
    "a.index('b')"
   ]
  },
  {
   "cell_type": "code",
   "execution_count": 157,
   "id": "5d79027c-735e-4e72-82d8-55788b595998",
   "metadata": {},
   "outputs": [
    {
     "data": {
      "text/plain": [
       "(None, ['a', 'b', 'c'])"
      ]
     },
     "execution_count": 157,
     "metadata": {},
     "output_type": "execute_result"
    }
   ],
   "source": [
    "# insert element at position i in the list\n",
    "a = ['a', 'c']\n",
    "a.insert(1, 'b'), a"
   ]
  },
  {
   "cell_type": "code",
   "execution_count": 155,
   "id": "e334f288-9828-4aa7-a0ea-8793880570bb",
   "metadata": {},
   "outputs": [
    {
     "data": {
      "text/plain": [
       "('b', ['a', 'c'])"
      ]
     },
     "execution_count": 155,
     "metadata": {},
     "output_type": "execute_result"
    }
   ],
   "source": [
    "# return last element and remove it\n",
    "a = ['a', 'b', 'c']\n",
    "a.pop(1), a"
   ]
  },
  {
   "cell_type": "code",
   "execution_count": 156,
   "id": "8cdd5dc7-3c1c-4bbf-9c53-3fd2116668c4",
   "metadata": {},
   "outputs": [
    {
     "data": {
      "text/plain": [
       "(None, ['a', 'b', 'c'])"
      ]
     },
     "execution_count": 156,
     "metadata": {},
     "output_type": "execute_result"
    }
   ],
   "source": [
    "# remove element \n",
    "a = ['a', 'b', 'c', 'c']\n",
    "a.remove('c'), a"
   ]
  },
  {
   "cell_type": "code",
   "execution_count": 162,
   "id": "ad0fa23f-4b56-4134-b394-e910614b096d",
   "metadata": {},
   "outputs": [
    {
     "data": {
      "text/plain": [
       "(None, ['c', 'b', 'a'])"
      ]
     },
     "execution_count": 162,
     "metadata": {},
     "output_type": "execute_result"
    }
   ],
   "source": [
    "# reverse the list\n",
    "a = ['a', 'b', 'c']\n",
    "a.reverse(), a "
   ]
  },
  {
   "cell_type": "code",
   "execution_count": 164,
   "id": "b3c42f19-723d-4803-8e1b-b0bb8b00ee75",
   "metadata": {},
   "outputs": [
    {
     "data": {
      "text/plain": [
       "(None, ['a', 'b', 'c'])"
      ]
     },
     "execution_count": 164,
     "metadata": {},
     "output_type": "execute_result"
    }
   ],
   "source": [
    "a = ['a', 'c', 'b']\n",
    "a.sort(), a"
   ]
  },
  {
   "cell_type": "code",
   "execution_count": 1,
   "id": "b3b546d9-69c1-471b-8117-c4c321bceb2f",
   "metadata": {},
   "outputs": [
    {
     "data": {
      "text/plain": [
       "3"
      ]
     },
     "execution_count": 1,
     "metadata": {},
     "output_type": "execute_result"
    }
   ],
   "source": [
    "# Summary of Functions\n",
    "# DICTIONARY \n",
    "# return number of items in the dictionary\n",
    "d = {'a':1, 'b':2, 'c':3}\n",
    "len(d)"
   ]
  },
  {
   "cell_type": "code",
   "execution_count": 1,
   "id": "245639e2",
   "metadata": {},
   "outputs": [
    {
     "data": {
      "text/plain": [
       "{'a': 1, 'c': 3}"
      ]
     },
     "execution_count": 1,
     "metadata": {},
     "output_type": "execute_result"
    }
   ],
   "source": [
    "# delete an item from the dictionary \n",
    "d = {'a':1, 'b':2, 'c':3}\n",
    "del(d['b'])\n",
    "d"
   ]
  },
  {
   "cell_type": "code",
   "execution_count": 2,
   "id": "52b53e33-af0e-4030-ba4f-9c82a4b9df2d",
   "metadata": {},
   "outputs": [
    {
     "data": {
      "text/plain": [
       "{'c': 3}"
      ]
     },
     "execution_count": 2,
     "metadata": {},
     "output_type": "execute_result"
    }
   ],
   "source": [
    "del d['a']\n",
    "d"
   ]
  },
  {
   "cell_type": "code",
   "execution_count": 3,
   "id": "7dc7078a-c8bd-4d36-a6d6-ae147d1fef32",
   "metadata": {},
   "outputs": [
    {
     "data": {
      "text/plain": [
       "(True, False)"
      ]
     },
     "execution_count": 3,
     "metadata": {},
     "output_type": "execute_result"
    }
   ],
   "source": [
    "# check if key exists in the dictionary\n",
    "d = {'a':1, 'b':2, 'c':3}\n",
    "'b' in d, 'x' in d"
   ]
  },
  {
   "cell_type": "code",
   "execution_count": 4,
   "id": "4423a6ce-e0e3-43f0-8d44-78701da8596b",
   "metadata": {},
   "outputs": [
    {
     "data": {
      "text/plain": [
       "{}"
      ]
     },
     "execution_count": 4,
     "metadata": {},
     "output_type": "execute_result"
    }
   ],
   "source": [
    "# remove all items from the dictionary\n",
    "d = {'a':1, 'b':2, 'c':3}\n",
    "d.clear()\n",
    "d"
   ]
  },
  {
   "cell_type": "code",
   "execution_count": 5,
   "id": "26f0037f-3ae4-4c20-acfc-f4ac8edaaa20",
   "metadata": {},
   "outputs": [
    {
     "data": {
      "text/plain": [
       "(2, 0)"
      ]
     },
     "execution_count": 5,
     "metadata": {},
     "output_type": "execute_result"
    }
   ],
   "source": [
    "# return value for key, or default if key not found\n",
    "d = {'a':1, 'b':2, 'c':3}\n",
    "d.get('b', 0), d.get('x', 0)"
   ]
  },
  {
   "cell_type": "code",
   "execution_count": 1,
   "id": "79700d12-2bac-481a-a585-ed623eeaf76d",
   "metadata": {},
   "outputs": [
    {
     "data": {
      "text/plain": [
       "3.14"
      ]
     },
     "execution_count": 1,
     "metadata": {},
     "output_type": "execute_result"
    }
   ],
   "source": [
    "# Summary of Functions\n",
    "# Type Conversions\n",
    "# convert to floating-point number\n",
    "float('3.14')"
   ]
  },
  {
   "cell_type": "code",
   "execution_count": 2,
   "id": "e2fc2f44-1385-420b-9356-4aee88dfcb1b",
   "metadata": {},
   "outputs": [
    {
     "data": {
      "text/plain": [
       "3.0"
      ]
     },
     "execution_count": 2,
     "metadata": {},
     "output_type": "execute_result"
    }
   ],
   "source": [
    "float(3)"
   ]
  },
  {
   "cell_type": "code",
   "execution_count": 3,
   "id": "9212fa5d-877c-4787-bfe7-7e7118a4410f",
   "metadata": {},
   "outputs": [
    {
     "data": {
      "text/plain": [
       "3"
      ]
     },
     "execution_count": 3,
     "metadata": {},
     "output_type": "execute_result"
    }
   ],
   "source": [
    "# specify number base \n",
    "int(3.14)\n"
   ]
  },
  {
   "cell_type": "code",
   "execution_count": 10,
   "id": "485dc42d-2a73-4e27-a53e-26139eb96469",
   "metadata": {},
   "outputs": [
    {
     "data": {
      "text/plain": [
       "255"
      ]
     },
     "execution_count": 10,
     "metadata": {},
     "output_type": "execute_result"
    }
   ],
   "source": [
    "int('FF', 16)"
   ]
  },
  {
   "cell_type": "code",
   "execution_count": 11,
   "id": "310c4827-f063-4068-b87e-5ea97c3fe3ff",
   "metadata": {},
   "outputs": [
    {
     "data": {
      "text/plain": [
       "['a', 'b', 'c', 'd']"
      ]
     },
     "execution_count": 11,
     "metadata": {},
     "output_type": "execute_result"
    }
   ],
   "source": [
    "# convert to list\n",
    "# handy way to get a list of dictionary keys \n",
    "list('abcd')"
   ]
  },
  {
   "cell_type": "code",
   "execution_count": 12,
   "id": "40e12542-17b3-4663-8893-425557a6c2cc",
   "metadata": {},
   "outputs": [
    {
     "data": {
      "text/plain": [
       "['a', 'b', 'c']"
      ]
     },
     "execution_count": 12,
     "metadata": {},
     "output_type": "execute_result"
    }
   ],
   "source": [
    "d = {'a':1, 'b':2, 'c':3}\n",
    "list(d)"
   ]
  },
  {
   "cell_type": "code",
   "execution_count": 16,
   "id": "89702e58-d0c4-41d8-a86d-468632c3fdd6",
   "metadata": {},
   "outputs": [
    {
     "data": {
      "text/plain": [
       "2"
      ]
     },
     "execution_count": 16,
     "metadata": {},
     "output_type": "execute_result"
    }
   ],
   "source": [
    "# Object Orientation: Modules, Classes and Methods \n",
    "# Custom python library is called module \n",
    "# Object-orientation: programs are structured into classes, each responsible for its own behaviour. \n",
    "# This helps to keep a check on program complexity and makes it easier to manage. This is done using classes and methods. \n",
    "\n",
    "# Modules \n",
    "# create a group of functions and provide them in a convenient form for others to use or reuse in different projects \n",
    "# module groups multiple objects and functions in a simple and elegant way. \n",
    "# module name is same as the file name in which its constituents are defined. \n",
    "\n",
    "# using modules\n",
    "# Somewhere in the Python installation is a file called random.py that contains the randint and other functions.\n",
    "# Since there are so many modules, there is a real danger that different modules might have functions with the same name. \n",
    "# Solution: None of the functions in the imported module are visible unless we prepend the module name and then a dot onto the front of the function name.\n",
    "import random\n",
    "random.randint(1, 6)\n",
    "# uncomment to see the error\n",
    "# randint(1, 6)"
   ]
  },
  {
   "cell_type": "code",
   "execution_count": 17,
   "id": "8ef9fbad-7545-470b-bdf6-f2a17c6326f1",
   "metadata": {},
   "outputs": [
    {
     "data": {
      "text/plain": [
       "6"
      ]
     },
     "execution_count": 17,
     "metadata": {},
     "output_type": "execute_result"
    }
   ],
   "source": [
    "# using local name for a module, local to the python file\n",
    "import random as r\n",
    "r.randint(1, 6)"
   ]
  },
  {
   "cell_type": "code",
   "execution_count": 18,
   "id": "71f705bd-f1e0-4fec-aecd-62bca4ba58ed",
   "metadata": {},
   "outputs": [
    {
     "data": {
      "text/plain": [
       "1"
      ]
     },
     "execution_count": 18,
     "metadata": {},
     "output_type": "execute_result"
    }
   ],
   "source": [
    "# When certain about conflict free usage \n",
    "from random import randint\n",
    "randint(1, 6)"
   ]
  },
  {
   "cell_type": "code",
   "execution_count": 19,
   "id": "3e95d8ea-585a-48f2-8b67-6099776a2cf8",
   "metadata": {},
   "outputs": [
    {
     "data": {
      "text/plain": [
       "5"
      ]
     },
     "execution_count": 19,
     "metadata": {},
     "output_type": "execute_result"
    }
   ],
   "source": [
    "# import everything in one scoop\n",
    "from random import *\n",
    "randint(1, 6)"
   ]
  },
  {
   "cell_type": "code",
   "execution_count": 20,
   "id": "c3e461f4-bd65-4ebe-9e32-aa36ceac133b",
   "metadata": {},
   "outputs": [],
   "source": [
    "# Useful Python Module and Libraries \n",
    "# string: string utilities \n",
    "# datetime: dates and times \n",
    "# math: math functions \n",
    "# pickle: data structures \n",
    "# urllib.request: webpages \n",
    "# tkinter: GUI"
   ]
  },
  {
   "cell_type": "code",
   "execution_count": null,
   "id": "ca468fdc-acfc-4e5e-814f-ff847d098793",
   "metadata": {},
   "outputs": [],
   "source": []
  }
 ],
 "metadata": {
  "kernelspec": {
   "display_name": "Python 3 (ipykernel)",
   "language": "python",
   "name": "python3"
  },
  "language_info": {
   "codemirror_mode": {
    "name": "ipython",
    "version": 3
   },
   "file_extension": ".py",
   "mimetype": "text/x-python",
   "name": "python",
   "nbconvert_exporter": "python",
   "pygments_lexer": "ipython3",
   "version": "3.13.3"
  }
 },
 "nbformat": 4,
 "nbformat_minor": 5
}

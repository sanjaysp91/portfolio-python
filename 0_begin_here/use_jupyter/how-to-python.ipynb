{
 "cells": [
  {
   "cell_type": "code",
   "execution_count": 2,
   "id": "d8a46097-2195-4a14-b705-51767b8bcd43",
   "metadata": {},
   "outputs": [
    {
     "name": "stdout",
     "output_type": "stream",
     "text": [
      "Hello\n",
      "World\n"
     ]
    },
    {
     "data": {
      "text/plain": [
       "(None, None)"
      ]
     },
     "execution_count": 2,
     "metadata": {},
     "output_type": "execute_result"
    }
   ],
   "source": [
    "# Printing Text \n",
    "print('Hello'), print('World')"
   ]
  },
  {
   "cell_type": "code",
   "execution_count": 3,
   "id": "90b8a396-2597-4968-9c24-8ab55d3a4b5e",
   "metadata": {},
   "outputs": [
    {
     "name": "stdout",
     "output_type": "stream",
     "text": [
      "Hello World\n"
     ]
    }
   ],
   "source": [
    "print('Hello','World')"
   ]
  },
  {
   "cell_type": "code",
   "execution_count": 4,
   "id": "648c185f-9f01-4a23-b2a2-4848c98ef5d9",
   "metadata": {},
   "outputs": [
    {
     "name": "stdout",
     "output_type": "stream",
     "text": [
      "Hello World\n"
     ]
    }
   ],
   "source": [
    "print('Hello'+' World')"
   ]
  },
  {
   "cell_type": "code",
   "execution_count": 5,
   "id": "3ab98571-9af2-44da-82d4-cf13077c2ee3",
   "metadata": {},
   "outputs": [
    {
     "name": "stdout",
     "output_type": "stream",
     "text": [
      "3.0\n"
     ]
    },
    {
     "data": {
      "text/plain": [
       "float"
      ]
     },
     "execution_count": 5,
     "metadata": {},
     "output_type": "execute_result"
    }
   ],
   "source": [
    "# VARIABLES \n",
    "k1 = 9/3\n",
    "print(k1)\n",
    "type(k1)"
   ]
  },
  {
   "cell_type": "code",
   "execution_count": 6,
   "id": "f054a4e4-192f-467d-9fa2-3bdc627643ae",
   "metadata": {},
   "outputs": [
    {
     "name": "stdout",
     "output_type": "stream",
     "text": [
      "1.8\n"
     ]
    },
    {
     "data": {
      "text/plain": [
       "float"
      ]
     },
     "execution_count": 6,
     "metadata": {},
     "output_type": "execute_result"
    }
   ],
   "source": [
    "k2 = 9.0/5.0\n",
    "print(k2)\n",
    "type(k2)"
   ]
  },
  {
   "cell_type": "code",
   "execution_count": 7,
   "id": "d0feb703-1531-4a19-9db6-0357fb867ca6",
   "metadata": {},
   "outputs": [
    {
     "name": "stdout",
     "output_type": "stream",
     "text": [
      "range(1, 10)\n",
      "[1, 2, 3, 4, 5, 6, 7, 8, 9]\n",
      "1\n",
      "2\n",
      "3\n",
      "4\n",
      "5\n",
      "6\n",
      "7\n",
      "8\n",
      "9\n"
     ]
    }
   ],
   "source": [
    "# FOR LOOP \n",
    "print(range(1, 10))\n",
    "print(list(range(1, 10)))\n",
    "for x in range(1, 10):\n",
    "    print(x)"
   ]
  },
  {
   "cell_type": "code",
   "execution_count": 8,
   "id": "227df4d4-d5de-42f2-99fd-db21d8b1833b",
   "metadata": {},
   "outputs": [
    {
     "data": {
      "text/plain": [
       "5"
      ]
     },
     "execution_count": 8,
     "metadata": {},
     "output_type": "execute_result"
    }
   ],
   "source": [
    "import random\n",
    "random.randint(1,6)"
   ]
  },
  {
   "cell_type": "code",
   "execution_count": 9,
   "id": "7be65cf9-bab2-4c68-98d0-8476f470a159",
   "metadata": {},
   "outputs": [
    {
     "name": "stdout",
     "output_type": "stream",
     "text": [
      "1 : 3\n",
      "2 : 4\n",
      "3 : 2\n",
      "4 : 1\n",
      "5 : 2\n",
      "6 : 1\n",
      "7 : 4\n",
      "8 : 4\n",
      "9 : 3\n"
     ]
    }
   ],
   "source": [
    "#1_dice\n",
    "import random\n",
    "for x in range(1,10):\n",
    "    y_random_number = random.randint(1,6)\n",
    "    print(x, ':', y_random_number)"
   ]
  },
  {
   "cell_type": "code",
   "execution_count": 10,
   "id": "c4103270-373f-47a3-adc7-cfce77ff70a6",
   "metadata": {},
   "outputs": [
    {
     "name": "stdout",
     "output_type": "stream",
     "text": [
      "5\n",
      "9\n",
      "9\n",
      "8\n",
      "6\n",
      "6\n",
      "8\n",
      "double thrown\n",
      "3\n",
      "better luck next time!\n",
      "3\n",
      "better luck next time!\n",
      "4\n"
     ]
    }
   ],
   "source": [
    "#2_double_dice\n",
    "import random\n",
    "for x in range(1, 11):\n",
    "    throw_1 = random.randint(1,6)\n",
    "    throw_2 = random.randint(1,6)\n",
    "    total = throw_1 + throw_2\n",
    "    print(total)\n",
    "    if total == 7:\n",
    "        print('seven thrown!')\n",
    "    if total == 11:\n",
    "        print('eleven thrown!')\n",
    "    if throw_1 == throw_2:\n",
    "        print('double thrown')\n",
    "    if total > 10:\n",
    "        print('good throw!')\n",
    "    if total < 4 :\n",
    "        print('better luck next time!')"
   ]
  },
  {
   "cell_type": "code",
   "execution_count": 11,
   "id": "07784128-d688-44af-ae04-170cd5db77f4",
   "metadata": {},
   "outputs": [
    {
     "name": "stdout",
     "output_type": "stream",
     "text": [
      "True\n",
      "False\n",
      "False\n",
      "True\n",
      "True\n",
      "True\n",
      "False\n"
     ]
    }
   ],
   "source": [
    "print(10 > 9)\n",
    "print(10 < 0)\n",
    "print(10 > 9 and 10 < 9)\n",
    "print(10 > 9 or 10 < 9)\n",
    "print(10 > 9 and 10 != 9)\n",
    "print(10 > 9 or 10 == 9)\n",
    "print(not (10 > 9))"
   ]
  },
  {
   "cell_type": "code",
   "execution_count": 12,
   "id": "47ebb15a-50a5-4cbf-b3fb-4ab998172225",
   "metadata": {},
   "outputs": [
    {
     "name": "stdout",
     "output_type": "stream",
     "text": [
      "a is small\n"
     ]
    }
   ],
   "source": [
    "# IF ELSE ELIF \n",
    "# two mutually exclusive clauses\n",
    "a = 7\n",
    "if a > 7:\n",
    "    print('a is big')\n",
    "else:\n",
    "    print('a is small')"
   ]
  },
  {
   "cell_type": "code",
   "execution_count": 13,
   "id": "6934c176-a260-4f6f-8a97-16bef945ac61",
   "metadata": {},
   "outputs": [
    {
     "name": "stdout",
     "output_type": "stream",
     "text": [
      "a is small\n"
     ]
    }
   ],
   "source": [
    "# three mutually exclusive clauses\n",
    "a = 7\n",
    "if a > 9:\n",
    "    print('a is very big')\n",
    "elif a > 7:\n",
    "    print('a is fairly big')\n",
    "else: print('a is small')"
   ]
  },
  {
   "cell_type": "code",
   "execution_count": 14,
   "id": "eae8a0ad-7bd1-4bd0-ac65-d3ef31331850",
   "metadata": {},
   "outputs": [
    {
     "name": "stdout",
     "output_type": "stream",
     "text": [
      "3\n",
      "8\n",
      "7\n",
      "5\n",
      "10\n",
      "9\n",
      "6\n",
      "5\n",
      "7\n",
      "5\n",
      "7\n",
      "11\n",
      "10\n",
      "10\n",
      "2\n",
      "11\n",
      "6\n",
      "8\n",
      "3\n",
      "9\n",
      "9\n",
      "11\n",
      "6\n",
      "3\n",
      "10\n",
      "7\n",
      "4\n",
      "10\n",
      "9\n",
      "6\n",
      "9\n",
      "8\n",
      "7\n",
      "7\n",
      "8\n",
      "8\n",
      "4\n",
      "7\n",
      "5\n",
      "7\n",
      "10\n",
      "10\n",
      "8\n",
      "9\n",
      "6\n",
      "8\n",
      "3\n",
      "7\n",
      "8\n",
      "8\n",
      "9\n",
      "7\n",
      "10\n",
      "8\n",
      "5\n",
      "9\n",
      "7\n",
      "10\n",
      "4\n",
      "9\n",
      "6\n",
      "8\n",
      "8\n",
      "5\n",
      "10\n",
      "10\n",
      "7\n",
      "9\n",
      "11\n",
      "11\n",
      "5\n",
      "8\n",
      "11\n",
      "double six thrown\n"
     ]
    }
   ],
   "source": [
    "#3_double_dice_while\n",
    "## A well-known principle in programming is DRY (Don’t Repeat Y ourself).\n",
    "import random\n",
    "throw_1 = random.randint(1,6)\n",
    "throw_2 = random.randint(1,6)\n",
    "while not (throw_1 == 6 and throw_2 == 6):\n",
    "    total = throw_1 + throw_2\n",
    "    print(total)\n",
    "    throw_1 = random.randint(1,6)\n",
    "    throw_2 = random.randint(1,6)\n",
    "print('double six thrown')"
   ]
  },
  {
   "cell_type": "code",
   "execution_count": 15,
   "id": "604ba5bf-132f-48e2-b37e-44f3a78e558b",
   "metadata": {},
   "outputs": [
    {
     "name": "stdout",
     "output_type": "stream",
     "text": [
      "8\n",
      "5\n",
      "3\n",
      "10\n",
      "4\n",
      "3\n",
      "8\n",
      "7\n",
      "8\n",
      "6\n",
      "4\n",
      "5\n",
      "9\n",
      "3\n",
      "3\n",
      "4\n",
      "10\n",
      "6\n",
      "6\n",
      "2\n",
      "9\n",
      "3\n",
      "8\n",
      "8\n",
      "7\n",
      "4\n",
      "6\n",
      "9\n",
      "11\n",
      "8\n",
      "7\n",
      "5\n",
      "6\n",
      "5\n",
      "9\n",
      "7\n",
      "11\n",
      "11\n",
      "2\n",
      "6\n",
      "4\n",
      "6\n",
      "6\n",
      "7\n",
      "9\n",
      "9\n",
      "8\n",
      "8\n",
      "5\n",
      "9\n",
      "10\n",
      "2\n",
      "7\n",
      "4\n",
      "9\n",
      "8\n",
      "3\n",
      "11\n",
      "3\n",
      "2\n",
      "7\n",
      "7\n",
      "8\n",
      "4\n",
      "7\n",
      "6\n",
      "8\n",
      "7\n",
      "6\n",
      "5\n",
      "5\n",
      "8\n",
      "9\n",
      "4\n",
      "9\n",
      "10\n",
      "9\n",
      "6\n",
      "8\n",
      "4\n",
      "10\n",
      "7\n",
      "7\n",
      "7\n",
      "6\n",
      "4\n",
      "8\n",
      "5\n",
      "4\n",
      "8\n",
      "9\n",
      "4\n",
      "4\n",
      "8\n",
      "6\n",
      "4\n",
      "9\n",
      "10\n",
      "3\n",
      "4\n",
      "12\n",
      "double six thrown\n"
     ]
    }
   ],
   "source": [
    "#4_double_dice_while_break\n",
    "## The condition for staying in the loop is permanently set to True. The loop will\n",
    "## continue until it gets to break, which will only happen after throwing a double 6.\n",
    "import random\n",
    "while True:\n",
    "    throw_1 = random.randint(1,6)\n",
    "    throw_2 = random.randint(1,6)\n",
    "    total = throw_1 + throw_2\n",
    "    print(total)\n",
    "    if throw_1 == 6 and throw_2 == 6:\n",
    "        break\n",
    "print('double six thrown')"
   ]
  },
  {
   "cell_type": "code",
   "execution_count": 16,
   "id": "565b04f9-a70a-45ec-a98c-9ae30052ad8e",
   "metadata": {},
   "outputs": [
    {
     "name": "stdout",
     "output_type": "stream",
     "text": [
      "programming\n"
     ]
    }
   ],
   "source": [
    "# STRINGS \n",
    "book_name = 'programming'\n",
    "print(book_name)"
   ]
  },
  {
   "cell_type": "code",
   "execution_count": 17,
   "id": "f46cc9ac-6dbb-4adc-bed2-26455d0b33cf",
   "metadata": {},
   "outputs": [
    {
     "data": {
      "text/plain": [
       "11"
      ]
     },
     "execution_count": 17,
     "metadata": {},
     "output_type": "execute_result"
    }
   ],
   "source": [
    "len(book_name)"
   ]
  },
  {
   "cell_type": "code",
   "execution_count": 18,
   "id": "4b309321-604d-4622-84ed-7bf577be2dd2",
   "metadata": {},
   "outputs": [
    {
     "data": {
      "text/plain": [
       "'r'"
      ]
     },
     "execution_count": 18,
     "metadata": {},
     "output_type": "execute_result"
    }
   ],
   "source": [
    "book_name[1]"
   ]
  },
  {
   "cell_type": "code",
   "execution_count": 19,
   "id": "9bf27c89-3426-46dc-b096-ad6bd7b0a892",
   "metadata": {},
   "outputs": [
    {
     "data": {
      "text/plain": [
       "'p'"
      ]
     },
     "execution_count": 19,
     "metadata": {},
     "output_type": "execute_result"
    }
   ],
   "source": [
    "book_name[0]"
   ]
  },
  {
   "cell_type": "code",
   "execution_count": 20,
   "id": "0aa1ac42-84c7-4233-a2b9-712465321201",
   "metadata": {},
   "outputs": [
    {
     "ename": "IndexError",
     "evalue": "string index out of range",
     "output_type": "error",
     "traceback": [
      "\u001b[31m---------------------------------------------------------------------------\u001b[39m",
      "\u001b[31mIndexError\u001b[39m                                Traceback (most recent call last)",
      "\u001b[36mCell\u001b[39m\u001b[36m \u001b[39m\u001b[32mIn[20]\u001b[39m\u001b[32m, line 1\u001b[39m\n\u001b[32m----> \u001b[39m\u001b[32m1\u001b[39m \u001b[43mbook_name\u001b[49m\u001b[43m[\u001b[49m\u001b[32;43m11\u001b[39;49m\u001b[43m]\u001b[49m\n",
      "\u001b[31mIndexError\u001b[39m: string index out of range"
     ]
    }
   ],
   "source": [
    "# uncomment following line to see the error type\n",
    "# book_name[11]"
   ]
  },
  {
   "cell_type": "code",
   "execution_count": null,
   "id": "5c97909d-e542-4a33-9c35-862b53a5cd63",
   "metadata": {},
   "outputs": [],
   "source": [
    "book_name[0:11]"
   ]
  },
  {
   "cell_type": "code",
   "execution_count": null,
   "id": "7e94f69e-119e-475f-aaa8-fe337ffc36af",
   "metadata": {},
   "outputs": [],
   "source": [
    "book_name[:3]"
   ]
  },
  {
   "cell_type": "code",
   "execution_count": null,
   "id": "2a871692-ed54-4d7e-b506-50ebfeb7af6f",
   "metadata": {},
   "outputs": [],
   "source": [
    "book_name[3:7]"
   ]
  },
  {
   "cell_type": "code",
   "execution_count": null,
   "id": "81bcb17a-dd7c-43ad-b3a8-141b1bb843aa",
   "metadata": {},
   "outputs": [],
   "source": [
    "book_name[7:]"
   ]
  },
  {
   "cell_type": "code",
   "execution_count": null,
   "id": "f7aecfbe-87bf-49cd-9b18-bf0604dd0011",
   "metadata": {},
   "outputs": [],
   "source": [
    "book_name + ' by author'"
   ]
  },
  {
   "cell_type": "code",
   "execution_count": null,
   "id": "8b1b7e21-5f32-41ab-ab39-71488e0d52f4",
   "metadata": {},
   "outputs": [],
   "source": [
    "# LISTS\n",
    "# a string is a list of characters\n",
    "numbers = [456, 321, 123, 654]\n",
    "len(numbers)"
   ]
  },
  {
   "cell_type": "code",
   "execution_count": null,
   "id": "7bed8610-a3e5-4736-b6ad-0ffa08475676",
   "metadata": {},
   "outputs": [],
   "source": [
    "numbers[0]"
   ]
  },
  {
   "cell_type": "code",
   "execution_count": null,
   "id": "e0f74391-3b71-4e0a-b1f1-93828d29fe2d",
   "metadata": {},
   "outputs": [],
   "source": [
    "numbers[1:3]"
   ]
  },
  {
   "cell_type": "code",
   "execution_count": null,
   "id": "ca76064e-ca98-4ec2-85a1-c1806ad85ad0",
   "metadata": {},
   "outputs": [],
   "source": [
    "numbers[0] = 1\n",
    "numbers"
   ]
  },
  {
   "cell_type": "code",
   "execution_count": null,
   "id": "e17ae817-f089-4648-b909-5ff4933b558f",
   "metadata": {},
   "outputs": [],
   "source": [
    "more_numbers = [1, 2, 3, 4]\n",
    "numbers + more_numbers"
   ]
  },
  {
   "cell_type": "code",
   "execution_count": null,
   "id": "7b029b7b-bfa9-40f5-89c5-d9f451856554",
   "metadata": {},
   "outputs": [],
   "source": [
    "numbers.sort()\n",
    "numbers"
   ]
  },
  {
   "cell_type": "code",
   "execution_count": null,
   "id": "ec6bec74-efd1-414b-bc15-e754f925d3f7",
   "metadata": {},
   "outputs": [],
   "source": [
    "numbers.pop()\n",
    "numbers"
   ]
  },
  {
   "cell_type": "code",
   "execution_count": null,
   "id": "ccd31650-ab62-44a9-9b3e-ed00863a40ff",
   "metadata": {},
   "outputs": [],
   "source": [
    "numbers.pop(0)\n",
    "numbers"
   ]
  },
  {
   "cell_type": "code",
   "execution_count": null,
   "id": "c6cd05ef-1780-4a96-83a3-f85dfae9fff5",
   "metadata": {},
   "outputs": [],
   "source": [
    "numbers.insert(0, 100)\n",
    "numbers"
   ]
  },
  {
   "cell_type": "code",
   "execution_count": null,
   "id": "7ab21ced-8e94-4ecf-ba12-66dadd84b529",
   "metadata": {},
   "outputs": [],
   "source": [
    "# complex structures, list of list \n",
    "big_list = [123, 'hello', ['inner list', 2, True]]\n",
    "big_list"
   ]
  },
  {
   "cell_type": "code",
   "execution_count": null,
   "id": "e071b14a-6812-4438-87fa-268683f2fb35",
   "metadata": {},
   "outputs": [],
   "source": [
    "#5_list_and_for\n",
    "list = [1, 'one', 2, True]\n",
    "for item in list:\n",
    "    print(item)"
   ]
  },
  {
   "cell_type": "code",
   "execution_count": 25,
   "id": "45c26d39-ed01-4abd-9478-b150270c941c",
   "metadata": {},
   "outputs": [
    {
     "name": "stdout",
     "output_type": "stream",
     "text": [
      "pass the salt\n",
      "pass the salt, please\n"
     ]
    }
   ],
   "source": [
    "# FUNCTIONS\n",
    "# As programs get larger, things get more complicated and it becomes necessary to break up your\n",
    "# programs into units called functions. There are better ways still of structuring our programs\n",
    "# using classes and modules.\n",
    "# The biggest problem in software development of any sort is managing complexity. \n",
    "# The best programmers write software that is easy to look at and understand and requires very \n",
    "# little in the way of extra explanation. \n",
    "# Functions are a key tool in creating easy-to-understand programs that can be changed without\n",
    "# difficulty or risk of the whole thing falling into a crumpled mess.\n",
    "#6_polite_function\n",
    "def make_polite(sentence):\n",
    "    polite_sentence = sentence + ', please'\n",
    "    return polite_sentence\n",
    "print('pass the salt')\n",
    "print(make_polite('pass the salt'))"
   ]
  },
  {
   "cell_type": "code",
   "execution_count": 27,
   "id": "464093f1-af5c-451c-95a4-7382b037e6cc",
   "metadata": {},
   "outputs": [
    {
     "name": "stdout",
     "output_type": "stream",
     "text": [
      "0 : hello\n",
      "1 : hello\n",
      "2 : hello\n",
      "3 : hello\n",
      "4 : hello\n"
     ]
    }
   ],
   "source": [
    "#7_hello_n\n",
    "def say_hello(n):\n",
    "    for x in range(0, n):\n",
    "        print(x, ':', 'hello')\n",
    "say_hello(5)"
   ]
  },
  {
   "cell_type": "code",
   "execution_count": 43,
   "id": "aea3a2eb-6a9f-4048-afc3-c1356468a4fe",
   "metadata": {},
   "outputs": [
    {
     "name": "stdout",
     "output_type": "stream",
     "text": [
      "<function pick_a_word at 0x10f52be20>\n",
      "chicken\n"
     ]
    }
   ],
   "source": [
    "# HANGMAN\n",
    "# a word guessing game. \n",
    "# In python2: replace input with raw_input. \n",
    "#8_hangman_words \n",
    "import random\n",
    "words = ['chicken', 'dog', 'cat', 'mouse', 'frog']\n",
    "def pick_a_word():\n",
    "    return random.choice(words)    # pick one of the items in the list at random. \n",
    "print(pick_a_word)\n",
    "print(pick_a_word())    "
   ]
  },
  {
   "cell_type": "code",
   "execution_count": 47,
   "id": "488c5f21-5e80-482b-8c0d-36aee2abedcd",
   "metadata": {},
   "outputs": [
    {
     "name": "stdout",
     "output_type": "stream",
     "text": [
      "you are hung!\n",
      "the word was:  chicken\n"
     ]
    }
   ],
   "source": [
    "# play: our function to control the game; we know what play should do, we just don't have all ... \n",
    "# the details yet; this is aka orhestrator function \n",
    "def play():    \n",
    "    word = pick_a_word()\n",
    "    while True:    # loop until either the word is guessed (process_guess returns True) or lives_remaining is reduced to zero. \n",
    "        guess = get_guess(word)\n",
    "        if process_guess(guess, word):\n",
    "            print('you win! well done.')\n",
    "            break\n",
    "        if lives_remaining == 0:    # global variable, because unlike variables defined in functions, we can access it from anywhere in the program.\n",
    "            print('you are hung!')\n",
    "            print('the word was: ' , word)\n",
    "            break\n",
    "# We cannot run this at the moment because the functions get_guess and process_guess don’t exist yet.\n",
    "# However, we can write what are called stubs for them that will at least let us try out our play function. \n",
    "# Stubs are just versions of functions that don’t do much; they are stand-ins for when the full versions of the functions are written.    \n",
    "def get_guess(word):\n",
    "    return 'a'\n",
    "def process_guess(guess, word):\n",
    "    global lives_remaining    # Without this line, Python assumes that it is a new variable local to the function.  \n",
    "    lives_remaining = lives_remaining - 1 \n",
    "    return False\n",
    "\n",
    "# run the dummy program \n",
    "lives_remaining = 5\n",
    "play()"
   ]
  },
  {
   "cell_type": "code",
   "execution_count": 49,
   "id": "726015ef-933b-41f5-8cdc-346a4b556bf2",
   "metadata": {},
   "outputs": [
    {
     "name": "stdout",
     "output_type": "stream",
     "text": [
      "print_word_with_blanks: tbd\n",
      "lives remaining:  5\n"
     ]
    },
    {
     "name": "stdin",
     "output_type": "stream",
     "text": [
      "guess a letter or whole word? x\n"
     ]
    },
    {
     "name": "stdout",
     "output_type": "stream",
     "text": [
      "print_word_with_blanks: tbd\n",
      "lives remaining:  4\n"
     ]
    },
    {
     "name": "stdin",
     "output_type": "stream",
     "text": [
      "guess a letter or whole word? y\n"
     ]
    },
    {
     "name": "stdout",
     "output_type": "stream",
     "text": [
      "print_word_with_blanks: tbd\n",
      "lives remaining:  3\n"
     ]
    },
    {
     "name": "stdin",
     "output_type": "stream",
     "text": [
      "guess a letter or whole word? z\n"
     ]
    },
    {
     "name": "stdout",
     "output_type": "stream",
     "text": [
      "print_word_with_blanks: tbd\n",
      "lives remaining:  2\n"
     ]
    },
    {
     "name": "stdin",
     "output_type": "stream",
     "text": [
      "guess a letter or whole word? \n"
     ]
    },
    {
     "name": "stdout",
     "output_type": "stream",
     "text": [
      "print_word_with_blanks: tbd\n",
      "lives remaining:  1\n"
     ]
    },
    {
     "name": "stdin",
     "output_type": "stream",
     "text": [
      "guess a letter or whole word? \n"
     ]
    },
    {
     "name": "stdout",
     "output_type": "stream",
     "text": [
      "you are hung!\n",
      "the word was:  mouse\n"
     ]
    }
   ],
   "source": [
    "# replace the stub functions with real functions\n",
    "def get_guess(word):\n",
    "    print_word_with_blanks(word)\n",
    "    print('lives remaining: ', str(lives_remaining))    # because we want to append a number after the string, the number variable must be converted into a string. \n",
    "    guess = input('guess a letter or whole word?')    # prompt\n",
    "    return guess\n",
    "def print_word_with_blanks(word):\n",
    "    print('print_word_with_blanks: tbd')\n",
    "\n",
    "# run the dummy program \n",
    "lives_remaining = 5\n",
    "play()\n",
    "# Enter guesses until all your lives are gone to verify that you get the “losing” message."
   ]
  },
  {
   "cell_type": "code",
   "execution_count": null,
   "id": "31ee95b6-bae6-4f5d-9df7-fb340241e7ec",
   "metadata": {},
   "outputs": [],
   "source": [
    "# create the proper version of print_word_with_blanks\n",
    "# function needs to display something like “c--c--n,” \n",
    "# so it needs to know which letters the player has guessed and which they haven’t. \n",
    "# To do this, it uses a new global variable (this time a string) that contains all the guessed letters. \n",
    "# Every time a letter is guessed, it gets added to this string: guessed letters = ''\n",
    "\n"
   ]
  }
 ],
 "metadata": {
  "kernelspec": {
   "display_name": "Python 3 (ipykernel)",
   "language": "python",
   "name": "python3"
  },
  "language_info": {
   "codemirror_mode": {
    "name": "ipython",
    "version": 3
   },
   "file_extension": ".py",
   "mimetype": "text/x-python",
   "name": "python",
   "nbconvert_exporter": "python",
   "pygments_lexer": "ipython3",
   "version": "3.13.3"
  }
 },
 "nbformat": 4,
 "nbformat_minor": 5
}
